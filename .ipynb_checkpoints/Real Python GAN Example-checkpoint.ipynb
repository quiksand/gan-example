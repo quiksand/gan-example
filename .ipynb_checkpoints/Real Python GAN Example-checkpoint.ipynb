{
 "cells": [
  {
   "cell_type": "markdown",
   "id": "administrative-arrest",
   "metadata": {},
   "source": [
    "# Real Python GAN Example\n",
    "\n",
    "Found here: https://realpython.com/generative-adversarial-networks/"
   ]
  },
  {
   "cell_type": "markdown",
   "id": "likely-reasoning",
   "metadata": {},
   "source": [
    "## Setup"
   ]
  },
  {
   "cell_type": "code",
   "execution_count": 1,
   "id": "pointed-default",
   "metadata": {},
   "outputs": [
    {
     "data": {
      "text/plain": [
       "<torch._C.Generator at 0x1251174b0>"
      ]
     },
     "execution_count": 1,
     "metadata": {},
     "output_type": "execute_result"
    }
   ],
   "source": [
    "import math\n",
    "import matplotlib.pyplot as plt\n",
    "import torch\n",
    "import torchvision\n",
    "import torchvision.transforms as transforms\n",
    "from torch import nn\n",
    "\n",
    "\n",
    "# Manually set random seed for reproducability\n",
    "torch.manual_seed(111)\n"
   ]
  },
  {
   "cell_type": "markdown",
   "id": "polished-germany",
   "metadata": {},
   "source": [
    "## Sine Wave Generator"
   ]
  },
  {
   "cell_type": "code",
   "execution_count": 2,
   "id": "brilliant-grounds",
   "metadata": {},
   "outputs": [],
   "source": [
    "# Create empty training data set\n",
    "train_data_length = 1024\n",
    "train_data = torch.zeros((train_data_length, 2))\n",
    "\n",
    "# Set x1= random floats 0<x<2*pi (x axis)\n",
    "# Set x2= sin(x1) (y axis)\n",
    "train_data[:, 0] = 2 * math.pi * torch.rand(train_data_length)\n",
    "train_data[:, 1] = torch.sin(train_data[:, 0])\n",
    "\n",
    "# Set labels to 0 (incorrect) - will not be used but required by pytorch\n",
    "train_labels = torch.zeros(train_data_length)\n",
    "\n",
    "\n",
    "train_set = [ (train_data[i], train_labels[i]) for i in range(train_data_length) ]\n"
   ]
  },
  {
   "cell_type": "code",
   "execution_count": 3,
   "id": "optical-gardening",
   "metadata": {},
   "outputs": [
    {
     "data": {
      "text/plain": [
       "[<matplotlib.lines.Line2D at 0x125a7f310>]"
      ]
     },
     "execution_count": 3,
     "metadata": {},
     "output_type": "execute_result"
    },
    {
     "data": {
      "image/png": "[encoded data removed]",
      "text/plain": [
       "<Figure size 432x288 with 1 Axes>"
      ]
     },
     "metadata": {
      "needs_background": "light"
     },
     "output_type": "display_data"
    }
   ],
   "source": [
    "# Plot training data\n",
    "plt.plot(train_data[:, 0], train_data[:, 1], \".\")\n"
   ]
  },
  {
   "cell_type": "code",
   "execution_count": 4,
   "id": "exterior-commissioner",
   "metadata": {},
   "outputs": [],
   "source": [
    "# Create loader for training set\n",
    "batch_size = 32\n",
    "train_loader = torch.utils.data.DataLoader(\n",
    "    train_set, batch_size=batch_size, shuffle=True\n",
    ")\n"
   ]
  },
  {
   "cell_type": "code",
   "execution_count": 5,
   "id": "racial-gibraltar",
   "metadata": {},
   "outputs": [],
   "source": [
    "# Create discriminator class\n",
    "class Discriminator(nn.Module):\n",
    "    def __init__(self):\n",
    "        super().__init__()\n",
    "        self.model = nn.Sequential(\n",
    "            nn.Linear(2, 256), # Input will be a data point in the form of (x1, x2)\n",
    "            nn.ReLU(),\n",
    "            nn.Dropout(0.3), # Used to avoid overfitting\n",
    "            nn.Linear(256, 128),\n",
    "            nn.ReLU(),\n",
    "            nn.Dropout(0.3),\n",
    "            nn.Linear(128, 64),\n",
    "            nn.ReLU(),\n",
    "            nn.Dropout(0.3),\n",
    "            nn.Linear(64, 1), # Output will be a probability that data point is from \"correct\" data set\n",
    "            nn.Sigmoid(),\n",
    "        )\n",
    "\n",
    "    def forward(self, x):\n",
    "        output = self.model(x)\n",
    "        return output\n",
    "\n",
    "# Instanitate the discriminator neural network\n",
    "discriminator = Discriminator()\n"
   ]
  },
  {
   "cell_type": "code",
   "execution_count": 6,
   "id": "passing-flesh",
   "metadata": {},
   "outputs": [],
   "source": [
    "# Create generator class\n",
    "class Generator(nn.Module):\n",
    "\n",
    "    def __init__(self):\n",
    "        super().__init__()\n",
    "        self.model = nn.Sequential(\n",
    "            nn.Linear(2, 16),\n",
    "            nn.ReLU(),\n",
    "            nn.Linear(16, 32),\n",
    "            nn.ReLU(),\n",
    "            nn.Linear(32, 2), # Output will be a data point in the form of (~x1, ~x2)\n",
    "        )\n",
    "\n",
    "    def forward(self, x):\n",
    "        output = self.model(x)\n",
    "        return output\n",
    "\n",
    "# Instantiate the generator neural network\n",
    "generator = Generator()\n"
   ]
  },
  {
   "cell_type": "markdown",
   "id": "running-enlargement",
   "metadata": {},
   "source": [
    "### Training the Models"
   ]
  },
  {
   "cell_type": "code",
   "execution_count": 7,
   "id": "specialized-percentage",
   "metadata": {},
   "outputs": [],
   "source": [
    "# \n",
    "lr = 0.001  # Learning rate\n",
    "num_epochs = 300  # How many repetitions of the whole data set will be performed\n",
    "loss_function = nn.BCELoss()\n"
   ]
  },
  {
   "cell_type": "code",
   "execution_count": 8,
   "id": "global-round",
   "metadata": {},
   "outputs": [],
   "source": [
    "# Optimizers; Use the \"Adam algorithm\" \n",
    "optimizer_discriminator = torch.optim.Adam(discriminator.parameters(), lr=lr)\n",
    "optimizer_generator = torch.optim.Adam(generator.parameters(), lr=lr)\n"
   ]
  },
  {
   "cell_type": "code",
   "execution_count": 9,
   "id": "palestinian-watson",
   "metadata": {},
   "outputs": [
    {
     "name": "stdout",
     "output_type": "stream",
     "text": [
      "Epoch: 0 Loss D.: 0.15663038194179535\n",
      "Epoch: 0 Loss G.: 2.1256043910980225\n",
      "Epoch: 10 Loss D.: 0.6571138501167297\n",
      "Epoch: 10 Loss G.: 0.8178414702415466\n",
      "Epoch: 20 Loss D.: 0.6383628845214844\n",
      "Epoch: 20 Loss G.: 0.9057260751724243\n",
      "Epoch: 30 Loss D.: 0.59872967004776\n",
      "Epoch: 30 Loss G.: 0.7265846729278564\n",
      "Epoch: 40 Loss D.: 0.607196569442749\n",
      "Epoch: 40 Loss G.: 0.747387707233429\n",
      "Epoch: 50 Loss D.: 0.6520012617111206\n",
      "Epoch: 50 Loss G.: 0.8308240175247192\n",
      "Epoch: 60 Loss D.: 0.69268399477005\n",
      "Epoch: 60 Loss G.: 0.7017871737480164\n",
      "Epoch: 70 Loss D.: 0.7220638990402222\n",
      "Epoch: 70 Loss G.: 0.7281138896942139\n",
      "Epoch: 80 Loss D.: 0.6826226711273193\n",
      "Epoch: 80 Loss G.: 0.6805168986320496\n",
      "Epoch: 90 Loss D.: 0.6530492305755615\n",
      "Epoch: 90 Loss G.: 0.7535091638565063\n",
      "Epoch: 100 Loss D.: 0.6849632263183594\n",
      "Epoch: 100 Loss G.: 0.7417536973953247\n",
      "Epoch: 110 Loss D.: 0.6993071436882019\n",
      "Epoch: 110 Loss G.: 0.6938921809196472\n",
      "Epoch: 120 Loss D.: 0.6608849763870239\n",
      "Epoch: 120 Loss G.: 0.7120289206504822\n",
      "Epoch: 130 Loss D.: 0.6669123768806458\n",
      "Epoch: 130 Loss G.: 0.6973047256469727\n",
      "Epoch: 140 Loss D.: 0.6839841604232788\n",
      "Epoch: 140 Loss G.: 0.9187678098678589\n",
      "Epoch: 150 Loss D.: 0.6783294677734375\n",
      "Epoch: 150 Loss G.: 0.7093525528907776\n",
      "Epoch: 160 Loss D.: 0.6797422766685486\n",
      "Epoch: 160 Loss G.: 0.7162689566612244\n",
      "Epoch: 170 Loss D.: 0.6737443208694458\n",
      "Epoch: 170 Loss G.: 0.6897174119949341\n",
      "Epoch: 180 Loss D.: 0.691449761390686\n",
      "Epoch: 180 Loss G.: 0.7022150158882141\n",
      "Epoch: 190 Loss D.: 0.6969447135925293\n",
      "Epoch: 190 Loss G.: 0.7084896564483643\n",
      "Epoch: 200 Loss D.: 0.659086287021637\n",
      "Epoch: 200 Loss G.: 0.6607613563537598\n",
      "Epoch: 210 Loss D.: 0.6710115075111389\n",
      "Epoch: 210 Loss G.: 0.8489441275596619\n",
      "Epoch: 220 Loss D.: 0.6480817198753357\n",
      "Epoch: 220 Loss G.: 0.7832828760147095\n",
      "Epoch: 230 Loss D.: 0.6953645348548889\n",
      "Epoch: 230 Loss G.: 0.6901845335960388\n",
      "Epoch: 240 Loss D.: 0.5943794846534729\n",
      "Epoch: 240 Loss G.: 0.9761648178100586\n",
      "Epoch: 250 Loss D.: 0.6787742972373962\n",
      "Epoch: 250 Loss G.: 0.7576058506965637\n",
      "Epoch: 260 Loss D.: 0.7237225770950317\n",
      "Epoch: 260 Loss G.: 0.7323552370071411\n",
      "Epoch: 270 Loss D.: 0.6753886342048645\n",
      "Epoch: 270 Loss G.: 0.8222521543502808\n",
      "Epoch: 280 Loss D.: 0.6864429116249084\n",
      "Epoch: 280 Loss G.: 0.7232451438903809\n",
      "Epoch: 290 Loss D.: 0.6733273863792419\n",
      "Epoch: 290 Loss G.: 0.9008162021636963\n"
     ]
    }
   ],
   "source": [
    "# Training loop\n",
    "for epoch in range(num_epochs):\n",
    "    \n",
    "    for n, (real_samples, _) in enumerate(train_loader):\n",
    "        \n",
    "        # Data for training the discriminator\n",
    "        real_samples_labels = torch.ones((batch_size, 1))\n",
    "        latent_space_samples = torch.randn((batch_size, 2))\n",
    "        generated_samples = generator(latent_space_samples)\n",
    "        generated_samples_labels = torch.zeros((batch_size, 1))\n",
    "        all_samples = torch.cat((real_samples, generated_samples))\n",
    "        all_samples_labels = torch.cat((real_samples_labels, generated_samples_labels))\n",
    "\n",
    "        # Training the discriminator\n",
    "        discriminator.zero_grad() # In PyTorch, it’s necessary to clear the gradients at each training step to avoid accumulating them\n",
    "        output_discriminator = discriminator(all_samples)\n",
    "        loss_discriminator = loss_function(output_discriminator, all_samples_labels)\n",
    "        loss_discriminator.backward() # Calculate the gradients to update the weights\n",
    "        optimizer_discriminator.step() # Update the discriminator weights\n",
    "        \n",
    "        # Data for training the generator\n",
    "        latent_space_samples = torch.randn((batch_size, 2))\n",
    "\n",
    "        # Training the generator\n",
    "        generator.zero_grad() # Zero the gradients\n",
    "        generated_samples = generator(latent_space_samples) # Generate samples\n",
    "        output_discriminator_generated = discriminator(generated_samples) # Calculate discriminator output of generated samples\n",
    "        loss_generator = loss_function(output_discriminator_generated, real_samples_labels)\n",
    "        loss_generator.backward()\n",
    "        optimizer_generator.step()\n",
    "\n",
    "        # Show loss\n",
    "        if epoch % 10 == 0 and n == batch_size - 1:\n",
    "            print(f\"Epoch: {epoch} Loss D.: {loss_discriminator}\")\n",
    "            print(f\"Epoch: {epoch} Loss G.: {loss_generator}\")\n"
   ]
  },
  {
   "cell_type": "code",
   "execution_count": 10,
   "id": "progressive-progress",
   "metadata": {},
   "outputs": [
    {
     "data": {
      "text/plain": [
       "[<matplotlib.lines.Line2D at 0x125ba7490>]"
      ]
     },
     "execution_count": 10,
     "metadata": {},
     "output_type": "execute_result"
    },
    {
     "data": {
      "image/png": "[encoded data removed]",
      "text/plain": [
       "<Figure size 432x288 with 1 Axes>"
      ]
     },
     "metadata": {
      "needs_background": "light"
     },
     "output_type": "display_data"
    }
   ],
   "source": [
    "# Generate some data points\n",
    "latent_space_samples = torch.randn(100, 2)\n",
    "generated_samples = generator(latent_space_samples)\n",
    "\n",
    "# Plot them\n",
    "generated_samples = generated_samples.detach()\n",
    "plt.plot(generated_samples[:, 0], generated_samples[:, 1], \".\")\n"
   ]
  },
  {
   "cell_type": "markdown",
   "id": "improving-status",
   "metadata": {},
   "source": [
    "## Handwritten Number Generator"
   ]
  },
  {
   "cell_type": "code",
   "execution_count": 11,
   "id": "forward-furniture",
   "metadata": {},
   "outputs": [],
   "source": [
    "# Configure environment\n",
    "device = \"\"\n",
    "if torch.cuda.is_available():\n",
    "    device = torch.device(\"cuda\")\n",
    "else:\n",
    "    device = torch.device(\"cpu\")\n"
   ]
  },
  {
   "cell_type": "code",
   "execution_count": 12,
   "id": "greatest-artist",
   "metadata": {},
   "outputs": [
    {
     "name": "stdout",
     "output_type": "stream",
     "text": [
      "Downloading http://yann.lecun.com/exdb/mnist/train-images-idx3-ubyte.gz to ./MNIST/raw/train-images-idx3-ubyte.gz\n"
     ]
    },
    {
     "name": "stderr",
     "output_type": "stream",
     "text": [
      "100.1%"
     ]
    },
    {
     "name": "stdout",
     "output_type": "stream",
     "text": [
      "Extracting ./MNIST/raw/train-images-idx3-ubyte.gz to ./MNIST/raw\n"
     ]
    },
    {
     "name": "stderr",
     "output_type": "stream",
     "text": [
      "\r",
      "0.0%"
     ]
    },
    {
     "name": "stdout",
     "output_type": "stream",
     "text": [
      "Downloading http://yann.lecun.com/exdb/mnist/train-labels-idx1-ubyte.gz to ./MNIST/raw/train-labels-idx1-ubyte.gz\n"
     ]
    },
    {
     "name": "stderr",
     "output_type": "stream",
     "text": [
      "2.5%5%"
     ]
    },
    {
     "name": "stdout",
     "output_type": "stream",
     "text": [
      "Extracting ./MNIST/raw/train-labels-idx1-ubyte.gz to ./MNIST/raw\n",
      "Downloading http://yann.lecun.com/exdb/mnist/t10k-images-idx3-ubyte.gz to ./MNIST/raw/t10k-images-idx3-ubyte.gz\n"
     ]
    },
    {
     "name": "stderr",
     "output_type": "stream",
     "text": [
      "100.4%"
     ]
    },
    {
     "name": "stdout",
     "output_type": "stream",
     "text": [
      "Extracting ./MNIST/raw/t10k-images-idx3-ubyte.gz to ./MNIST/raw\n",
      "Downloading http://yann.lecun.com/exdb/mnist/t10k-labels-idx1-ubyte.gz to ./MNIST/raw/t10k-labels-idx1-ubyte.gz\n"
     ]
    },
    {
     "name": "stderr",
     "output_type": "stream",
     "text": [
      "180.4%"
     ]
    },
    {
     "name": "stdout",
     "output_type": "stream",
     "text": [
      "Extracting ./MNIST/raw/t10k-labels-idx1-ubyte.gz to ./MNIST/raw\n",
      "Processing...\n",
      "Done!\n"
     ]
    }
   ],
   "source": [
    "# transforms.ToTensor() converts the data to a PyTorch tensor.\n",
    "# transforms.Normalize() converts the range of the tensor coefficients.\n",
    "\n",
    "# Function to transform images to training data set\n",
    "transform = transforms.Compose(\n",
    "    [transforms.ToTensor(), transforms.Normalize((0.5,), (0.5,))]\n",
    ")\n",
    "\n",
    "# Download training set\n",
    "train_set = torchvision.datasets.MNIST(\n",
    "    root=\".\", train=True, download=True, transform=transform\n",
    ")\n",
    "\n",
    "# Create data loader\n",
    "batch_size = 32\n",
    "train_loader = torch.utils.data.DataLoader(\n",
    "    train_set, batch_size=batch_size, shuffle=True\n",
    ")\n"
   ]
  },
  {
   "cell_type": "code",
   "execution_count": 14,
   "id": "nervous-vegetation",
   "metadata": {},
   "outputs": [
    {
     "data": {
      "image/png": "[encoded data removed]",
      "text/plain": [
       "<Figure size 432x288 with 16 Axes>"
      ]
     },
     "metadata": {},
     "output_type": "display_data"
    }
   ],
   "source": [
    "# Plot some of the training data\n",
    "real_samples, mnist_labels = next(iter(train_loader))\n",
    "for i in range(16):\n",
    "    ax = plt.subplot(4, 4, i + 1)\n",
    "    plt.imshow(real_samples[i].reshape(28, 28), cmap=\"gray_r\")\n",
    "    plt.xticks([])\n",
    "    plt.yticks([])\n"
   ]
  },
  {
   "cell_type": "code",
   "execution_count": null,
   "id": "beginning-communications",
   "metadata": {},
   "outputs": [],
   "source": [
    "# Create discriminator class \n",
    "class Discriminator(nn.Module):\n",
    "    def __init__(self):\n",
    "        super().__init__()\n",
    "        self.model = nn.Sequential(\n",
    "            nn.Linear(784, 1024),\n",
    "            nn.ReLU(),\n",
    "            nn.Dropout(0.3),\n",
    "            nn.Linear(1024, 512),\n",
    "            nn.ReLU(),\n",
    "            nn.Dropout(0.3),\n",
    "            nn.Linear(512, 256),\n",
    "            nn.ReLU(),\n",
    "            nn.Dropout(0.3),\n",
    "            nn.Linear(256, 1),\n",
    "            nn.Sigmoid(),\n",
    "        )\n",
    "\n",
    "    def forward(self, x):\n",
    "        x = x.view(x.size(0), 784)\n",
    "        output = self.model(x)\n",
    "        return output\n",
    "\n",
    "discriminator = Discriminator().to(device=device)\n"
   ]
  },
  {
   "cell_type": "code",
   "execution_count": null,
   "id": "educational-customs",
   "metadata": {},
   "outputs": [],
   "source": [
    "# Create generator class\n",
    "class Generator(nn.Module):\n",
    "    def __init__(self):\n",
    "        super().__init__()\n",
    "        self.model = nn.Sequential(\n",
    "            nn.Linear(100, 256),\n",
    "            nn.ReLU(),\n",
    "            nn.Linear(256, 512),\n",
    "            nn.ReLU(),\n",
    "            nn.Linear(512, 1024),\n",
    "            nn.ReLU(),\n",
    "            nn.Linear(1024, 784),\n",
    "            nn.Tanh(), # output coefficients should be in the interval from -1 to 1\n",
    "        )\n",
    "    def forward(self, x):\n",
    "        output = self.model(x)\n",
    "        output = output.view(x.size(0), 1, 28, 28)\n",
    "        return output\n",
    "\n",
    "generator = Generator().to(device=device)\n"
   ]
  },
  {
   "cell_type": "code",
   "execution_count": null,
   "id": "single-jesus",
   "metadata": {},
   "outputs": [],
   "source": [
    "# \n",
    "lr = 0.0001\n",
    "num_epochs = 50\n",
    "loss_function = nn.BCELoss()\n",
    "\n",
    "optimizer_discriminator = torch.optim.Adam(discriminator.parameters(), lr=lr)\n",
    "optimizer_generator = torch.optim.Adam(generator.parameters(), lr=lr)\n"
   ]
  },
  {
   "cell_type": "markdown",
   "id": "confidential-boost",
   "metadata": {},
   "source": [
    "### Training the models"
   ]
  },
  {
   "cell_type": "code",
   "execution_count": null,
   "id": "handled-packing",
   "metadata": {},
   "outputs": [],
   "source": [
    "# Training loop\n",
    "for epoch in range(num_epochs):\n",
    "    \n",
    "    for n, (real_samples, mnist_labels) in enumerate(train_loader):\\\n",
    "        \n",
    "        # Data for training the discriminator\n",
    "        real_samples = real_samples.to(device=device)\n",
    "        real_samples_labels = torch.ones((batch_size, 1)).to(device=device)\n",
    "        latent_space_samples = torch.randn((batch_size, 100)).to(device=device)\n",
    "        generated_samples = generator(latent_space_samples)\n",
    "        generated_samples_labels = torch.zeros((batch_size, 1)).to(device=device)\n",
    "        all_samples = torch.cat((real_samples, generated_samples))\n",
    "        all_samples_labels = torch.cat(\n",
    "            (real_samples_labels, generated_samples_labels)\n",
    "        )\n",
    "        # Training the discriminator\n",
    "        discriminator.zero_grad()\n",
    "        output_discriminator = discriminator(all_samples)\n",
    "        loss_discriminator = loss_function(\n",
    "            output_discriminator, all_samples_labels\n",
    "        )\n",
    "        loss_discriminator.backward()\n",
    "        optimizer_discriminator.step()\n",
    "\n",
    "        # Data for training the generator\n",
    "        latent_space_samples = torch.randn((batch_size, 100)).to(device=device)\n",
    "\n",
    "        # Training the generator\n",
    "        generator.zero_grad()\n",
    "        generated_samples = generator(latent_space_samples)\n",
    "        output_discriminator_generated = discriminator(generated_samples)\n",
    "        loss_generator = loss_function(\n",
    "            output_discriminator_generated, real_samples_labels\n",
    "        )\n",
    "        loss_generator.backward()\n",
    "        optimizer_generator.step()\n",
    "\n",
    "        # Show loss\n",
    "        if n == batch_size - 1:\n",
    "            print(f\"Epoch: {epoch} Loss D.: {loss_discriminator}\")\n",
    "            print(f\"Epoch: {epoch} Loss G.: {loss_generator}\")\n"
   ]
  },
  {
   "cell_type": "code",
   "execution_count": null,
   "id": "married-technology",
   "metadata": {},
   "outputs": [],
   "source": [
    "# Generate samples\n",
    "latent_space_samples = torch.randn(batch_size, 100).to(device=device)\n",
    "generated_samples = generator(latent_space_samples)\n",
    "\n",
    "# Plot them\n",
    "generated_samples = generated_samples.cpu().detach()\n",
    "for i in range(16):\n",
    "    ax = plt.subplot(4, 4, i + 1)\n",
    "    plt.imshow(generated_samples[i].reshape(28, 28), cmap=\"gray_r\")\n",
    "    plt.xticks([])\n",
    "    plt.yticks([])\n"
   ]
  }
 ],
 "metadata": {
  "kernelspec": {
   "display_name": "gan",
   "language": "python",
   "name": "gan"
  },
  "language_info": {
   "codemirror_mode": {
    "name": "ipython",
    "version": 3
   },
   "file_extension": ".py",
   "mimetype": "text/x-python",
   "name": "python",
   "nbconvert_exporter": "python",
   "pygments_lexer": "ipython3",
   "version": "3.8.5"
  }
 },
 "nbformat": 4,
 "nbformat_minor": 5
}
